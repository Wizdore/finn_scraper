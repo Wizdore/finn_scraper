{
 "nbformat": 4,
 "nbformat_minor": 0,
 "metadata": {
  "colab": {
   "name": "Finn_Housing.ipynb",
   "provenance": [],
   "collapsed_sections": [],
   "toc_visible": true
  },
  "kernelspec": {
   "name": "python3",
   "display_name": "Python 3",
   "language": "python"
  }
 },
 "cells": [
  {
   "cell_type": "markdown",
   "metadata": {
    "id": "Idn1y6lBSWBg"
   },
   "source": [
    "# Scraping finn for houses for sale, Data analysis, Price prediction"
   ]
  },
  {
   "cell_type": "markdown",
   "metadata": {
    "id": "ld1ldJT4Syuu"
   },
   "source": [
    "### Project Setup"
   ]
  },
  {
   "cell_type": "code",
   "metadata": {
    "id": "ASKTb5Aeg_eR"
   },
   "source": [
    "import numpy as np\n",
    "import pandas as pd\n",
    "import requests\n",
    "from tqdm.notebook import tqdm\n",
    "from bs4 import BeautifulSoup as bs\n",
    "from selenium import webdriver\n",
    "import sys\n",
    "import time\n",
    "from pprint import pprint as pp\n",
    "from deep_translator import GoogleTranslator\n",
    "# from geopy.geocoders import Nominatim\n",
    "# from matplotlib import pyplot as plt"
   ],
   "execution_count": 3,
   "outputs": []
  },
  {
   "cell_type": "markdown",
   "metadata": {
    "id": "7wTbskriSUeF"
   },
   "source": [
    "Setting up selenium for properly scraping. I first tried scraping with requests package but it turns out finn renders the information in some pages with javascript on the client side. To get past that I had to do this bit much work to setup browser automation so selenium can work properly"
   ]
  },
  {
   "cell_type": "code",
   "metadata": {
    "id": "uMTX79TglK0h"
   },
   "source": [
    "sys.path.insert(0,'/usr/lib/chromium-browser/chromedriver')\n",
    "chrome_options = webdriver.ChromeOptions()\n",
    "chrome_options.add_argument('--headless')\n",
    "chrome_options.add_argument('--no-sandbox')\n",
    "chrome_options.add_argument('--disable-dev-shm-usage')\n",
    "driver = webdriver.Chrome('chromedriver',options=chrome_options)"
   ],
   "execution_count": 4,
   "outputs": []
  },
  {
   "cell_type": "markdown",
   "metadata": {
    "id": "V2g9IWA5Tq7u"
   },
   "source": [
    "### Scraping Finn\n",
    "\n",
    "1.   First I will be scraping only the add codes(finncode) of the house listing from the search page https://www.finn.no/realestate/homes/search.html\n",
    "2.   Then I will be scraping information of the house with those finncodes.\n",
    "The details about each of the add can be found with https://www.finn.no/realestate/homes/ad.html?finnkode={} link where the {} can be replaced with a finncode to get to the details page of the house.\n",
    "\n",
    "There are also some ads which contain details about multiple houses usually from a real estate company. Im excluding those houses because some of those houses are in development and are not complete. In this project I will be focusing on the houses that finn did not place in the new houses category.\n",
    "\n"
   ]
  },
  {
   "cell_type": "markdown",
   "metadata": {
    "id": "JU6cTw2hWSzJ"
   },
   "source": [
    "#### Scraping Phase 1: Grabbing the Finn Codes from the listing page\n",
    "\n",
    "This function goes through each page of the house listing and grabs all the ad codes present in each page. I have noticed that finn do not show more than 50 pages. In the future I will run the scraping on a raspberry pi and run the scraping cron job once a day and collect the newly published house data. That way over the year I will have a lot of data."
   ]
  },
  {
   "cell_type": "code",
   "metadata": {
    "id": "KTxLx53EuKVW"
   },
   "source": [
    "# Url for Homes: \"https://www.finn.no/realestate/homes/search.html?page=\"\n",
    "# Url for Cars: \"https://www.finn.no/car/used/search.html?page=\"\n",
    "# Url for Jobs: \"https://www.finn.no/job/fulltime/search.html?page=\"\n",
    "\n",
    "def get_all_codes(url, driver, npages=100, verbose=1):\n",
    "  all_codes = []\n",
    "  \n",
    "  for page_no in range(1, npages):\n",
    "    page_url = url.format(page_no)\n",
    "\n",
    "    driver.get(page_url)\n",
    "    soup = bs(driver.page_source, 'html.parser')\n",
    "    ad_links = soup.find_all('a', attrs={'class':'ads__unit__link'})\n",
    "    ad_codes = [int(ad['id']) for ad in ad_links]\n",
    "    \n",
    "    if len(ad_codes) < 2:\n",
    "      break\n",
    "    if verbose == 1:\n",
    "      print(f'Indexed: {len(ad_codes)} from {page_url}')\n",
    "    \n",
    "    all_codes.extend(ad_codes)\n",
    "    time.sleep(0.2)\n",
    "\n",
    "  return list(set(all_codes))"
   ],
   "execution_count": null,
   "outputs": []
  },
  {
   "cell_type": "code",
   "metadata": {
    "colab": {
     "base_uri": "https://localhost:8080/"
    },
    "id": "EiXs__KsvU4Y",
    "outputId": "39b20894-99ad-4556-a105-6af6d7bbbe97"
   },
   "source": [
    "homes_listing_url = \"https://www.finn.no/realestate/homes/search.html?page={}\"\n",
    "finn_codes_home = get_all_codes(homes_listing_url, driver, 55)\n",
    "len(finn_codes_home)"
   ],
   "execution_count": null,
   "outputs": [
    {
     "output_type": "stream",
     "text": [
      "Indexed: 51 from https://www.finn.no/realestate/homes/search.html?page=39\n",
      "Indexed: 51 from https://www.finn.no/realestate/homes/search.html?page=40\n",
      "Indexed: 51 from https://www.finn.no/realestate/homes/search.html?page=41\n",
      "Indexed: 51 from https://www.finn.no/realestate/homes/search.html?page=42\n",
      "Indexed: 51 from https://www.finn.no/realestate/homes/search.html?page=43\n",
      "Indexed: 51 from https://www.finn.no/realestate/homes/search.html?page=44\n",
      "Indexed: 51 from https://www.finn.no/realestate/homes/search.html?page=45\n",
      "Indexed: 51 from https://www.finn.no/realestate/homes/search.html?page=46\n",
      "Indexed: 51 from https://www.finn.no/realestate/homes/search.html?page=47\n",
      "Indexed: 51 from https://www.finn.no/realestate/homes/search.html?page=48\n",
      "Indexed: 51 from https://www.finn.no/realestate/homes/search.html?page=49\n",
      "Indexed: 51 from https://www.finn.no/realestate/homes/search.html?page=50\n"
     ],
     "name": "stdout"
    },
    {
     "output_type": "execute_result",
     "data": {
      "text/plain": [
       "2526"
      ]
     },
     "metadata": {
      "tags": []
     },
     "execution_count": 5
    }
   ]
  },
  {
   "cell_type": "markdown",
   "metadata": {
    "id": "2SNUl50KYiWV"
   },
   "source": [
    "#### Scraping Phase 2: Scraping the House info pages from the finn codes\n",
    "\n",
    "This is the main function that collect all the data from an ad detail page and returns a dictionary with collected features."
   ]
  },
  {
   "cell_type": "code",
   "metadata": {
    "id": "zwnxCh8VbjMt"
   },
   "source": [
    "def parse_housing_page(finn_code, driver):\n",
    "  ## Getting the raw page\n",
    "  detail_page = \"https://www.finn.no/realestate/homes/ad.html?finnkode={}\".format(finn_code)\n",
    "  driver.get(detail_page)\n",
    "  soup = bs(driver.page_source, 'html.parser')\n",
    "  \n",
    "\n",
    "  ad_main = soup.find('div', attrs={\"class\":\"u-word-break\"})\n",
    "\n",
    "  try:\n",
    "    price = ad_main.find(lambda tag: tag.name == 'span' and tag.has_attr('class') and tag['class'] == ['u-t3']).string\n",
    "  except AttributeError:\n",
    "    # print(f'No house details found with {finn_code} finncode')\n",
    "    return\n",
    "\n",
    "  price = int(''.join(price.split()[:-1]))\n",
    "\n",
    "  ad_dict = {\n",
    "      \"id\" : finn_code,\n",
    "    \"title\": ad_main.find('h1').string,\n",
    "    \"address\": ad_main.find('p', attrs={'class':'u-caption'}).string,\n",
    "    \"price\": price\n",
    "  }\n",
    "\n",
    "  ## Parsing number of rooms, bed rooms, total space and other info\n",
    "  other_features = ad_main.find_all('dl', attrs={'class':'definition-list'})\n",
    "  for feature_vec in other_features:\n",
    "    feature_vec = feature_vec.get_text().split('\\n')\n",
    "    \n",
    "    ## basic data cleaning\n",
    "    feature_vec = [''.join(x.strip()) for x in feature_vec if len(x) > 0]\n",
    "\n",
    "    if len(feature_vec) < 2:\n",
    "      continue\n",
    "    for k,v in zip(feature_vec[0::2], feature_vec[1::2]):\n",
    "      if len(k) == 0 or len(v) == 0:\n",
    "        continue\n",
    "      ad_dict[k] = v\n",
    "  \n",
    "  facilities = []\n",
    "  try:\n",
    "    for item in ad_main.find_all('ul', attrs={'class':'list'}):\n",
    "      flts = item.get_text().strip().split('\\n')\n",
    "      for item in flts:\n",
    "        item = item.split('/')\n",
    "        facilities.extend(item)\n",
    "  except AttributeError:\n",
    "    pass\n",
    "    # ad_dict['facilities'] = None\n",
    "  else:\n",
    "    ad_dict['facilities'] = list(set(facilities))\n",
    "\n",
    "  ## Parsing textual data in the ad body\n",
    "  more_info = []\n",
    "  try:\n",
    "    for paragraph in ad_main.find('div', attrs={\"data-controller\":\"moreKeyInfo\"}).find_all('p'):\n",
    "      for lines in paragraph.get_text().strip():\n",
    "        more_info.extend(lines.strip())\n",
    "  except AttributeError:\n",
    "    pass\n",
    "\n",
    "  try:\n",
    "    for paragraph in ad_main.find('div', attrs={\"id\":\"collapsableTextContent\"}).find_all('p'):\n",
    "      for lines in paragraph.get_text().strip().split('\\n'):\n",
    "        more_info.extend(lines.strip())\n",
    "  except AttributeError:\n",
    "    pass\n",
    "  \n",
    "  if len(more_info) > 5:\n",
    "    ad_dict['description'] = ''.join(more_info)\n",
    "\n",
    "  try:    # Get the latitude and longitude from the attached map in the post\n",
    "    mapinfo = soup.find('a', attrs={\"data-controller\":\"trackMap\"})\n",
    "    lat = mapinfo['href'].split('&')[1].split('=')[1]\n",
    "    lon = mapinfo['href'].split('&')[2].split('=')[1]\n",
    "  except AttributeError:\n",
    "    # print('cant find map')\n",
    "    pass\n",
    "  else:\n",
    "    ad_dict['lat'] = lat\n",
    "    ad_dict['lon'] = lon\n",
    "\n",
    "  return ad_dict"
   ],
   "execution_count": null,
   "outputs": []
  },
  {
   "cell_type": "markdown",
   "metadata": {
    "id": "CfHjpkD8ZuiN"
   },
   "source": [
    "Its a sample of data thats been collected from a finn code. I have cleaned a bit when scraping the data. But a thorough cleaning would be done when I process the whole dataset."
   ]
  },
  {
   "cell_type": "code",
   "metadata": {
    "colab": {
     "base_uri": "https://localhost:8080/"
    },
    "id": "usiLUf3RwX-5",
    "outputId": "dfd97a2a-093a-4b86-fd9a-501b19da06ee"
   },
   "source": [
    "finn_code = 200661038\n",
    "pp(parse_housing_page(finn_code, driver))"
   ],
   "execution_count": null,
   "outputs": [
    {
     "output_type": "stream",
     "text": [
      "{'Boligselgerforsikring': 'Ja',\n",
      " 'Boligtype': 'Hytte',\n",
      " 'Bruksareal': '107 m²',\n",
      " 'Bruttoareal': '118 m²',\n",
      " 'Byggeår': '2014',\n",
      " 'Eieform bolig': 'Eier (Selveier)',\n",
      " 'Energimerking': 'C - gul',\n",
      " 'Kommunale avg.': '8\\xa0203 kr per år',\n",
      " 'Omkostninger': '106\\xa0892 kr',\n",
      " 'Primærrom': '101 m²',\n",
      " 'Soverom': '4',\n",
      " 'Tomteareal': '2345 m² (eiet)',\n",
      " 'Totalpris': '3\\xa0756\\xa0892 kr',\n",
      " 'address': 'Havåsen 9, 4187 Ombo',\n",
      " 'description': 'Entre/gang,4soverom,bad,stue/kjøkken,wc,vaskerom.3650000,-(Prisantydning)Omkostninger2800,-(BoligkjøperforsikringPluss(valgfritttillegg))172,-(Pantattestkjøper)585,-(Tingl.gebyrpantedokument)585,-(Tingl.gebyrskjøte)11500,-(BoligkjøperforsikringHELP(valgfritt))91250,-(Dokumentavgift(forutsattsalgssum:3650000,-))--------------------------------------------------------106892,-(Omkostningertotalt)--------------------------------------------------------3756892,-(Totalprisinkl.omkostninger)NB:Regnestykketforutsetteratdetkuntinglysesettpantedokumentogateiendommenselgestilprisantydning.Kommunenr:1103Gårdsnr:150Bruksnr:18I '\n",
      "                'flotte omgivelser på Ombo, med nydelig utsikt og gode '\n",
      "                'solforhold, ligger det en perle av en fritidseiendom. '\n",
      "                'Eiendommen er på ca 2 346 kvm og har ei moderne hytte fra '\n",
      "                '2014. Hytta har gjennomgående høy kvalitet på parkett, panel '\n",
      "                'og inventar. Sol og utsikt kan nytes fra to romslige '\n",
      "                'terrasser, og det er kjørevei frem med parkering på tomt.Fra '\n",
      "                'entreen er det direkte tilgang til både wc-rom og vaskerom, '\n",
      "                'og hytta har også et delikat, flislagt bad. Kjøkkenet har '\n",
      "                'stilfull innredning fra Aubo med integrerte hvitevarer, og '\n",
      "                'det er åpent ut mot spisestue. Fra spisestuen er det åpent '\n",
      "                'videre ut i en nydelig stue med ekstra takhøyde, flotte '\n",
      "                'utsiktsvinduer og stemningsfull peis. \\xa0I tillegg har hytta '\n",
      "                'fire soverom og utvendig bod.\\xa01. etg: Entré, wc-rom, bad, '\n",
      "                'vaskerom, 4 soverom, stue og kjøkken.',\n",
      " 'facilities': ['Ingen gjenboere',\n",
      "                'Barnevennlig',\n",
      "                'Rolig',\n",
      "                'Offentlig vann',\n",
      "                'Balkong',\n",
      "                'Parkett',\n",
      "                'Moderne',\n",
      "                'Lademulighet',\n",
      "                'Utsikt',\n",
      "                'kloakk',\n",
      "                'Ildsted',\n",
      "                'Bademulighet',\n",
      "                'Peis',\n",
      "                'Turterreng',\n",
      "                'Bredbåndstilknytning',\n",
      "                'Terrasse',\n",
      "                'Livsløpsstandard'],\n",
      " 'id': 200661038,\n",
      " 'lat': '59.238068',\n",
      " 'lon': '5.969944',\n",
      " 'price': 3650000,\n",
      " 'title': 'Innholdsrik moderne hytte fra 2014 med høy kvalitet, nydelig '\n",
      "          'utsikt, parkering på tomt * Båtplass'}\n"
     ],
     "name": "stdout"
    }
   ]
  },
  {
   "cell_type": "markdown",
   "metadata": {
    "id": "VM_E6HZxaSfh"
   },
   "source": [
    "Scraping all the collected finn codes and making a dataset from them."
   ]
  },
  {
   "cell_type": "code",
   "metadata": {
    "id": "GZoJEbfn4Te_"
   },
   "source": [
    "houses_dataset = []\n",
    "for finn_code in tqdm(finn_codes_home):\n",
    "  house_dict = parse_housing_page(finn_code, driver)\n",
    "  if house_dict is None:\n",
    "    print(f'\\texcluded:{finn_code}')\n",
    "    continue\n",
    "  # print(f'\\tAdded:{finn_code}')\n",
    "  houses_dataset.append(house_dict)"
   ],
   "execution_count": null,
   "outputs": []
  },
  {
   "cell_type": "markdown",
   "metadata": {
    "id": "zriXsiklbA2R"
   },
   "source": [
    "### Data Analysis\n",
    "Sample of the dataset"
   ]
  },
  {
   "cell_type": "markdown",
   "metadata": {
    "id": "pQtdYxw-tRGy"
   },
   "source": [
    "#### Data Cleaning"
   ]
  },
  {
   "cell_type": "code",
   "metadata": {
    "colab": {
     "base_uri": "https://localhost:8080/",
     "height": 551
    },
    "id": "q2aUxhDH_Gzx",
    "outputId": "8e1a7d25-4515-49c8-eda4-7f5a43de4e85"
   },
   "source": [
    "df = pd.DataFrame.from_dict(list(filter(None,houses_dataset)))\n",
    "df.sample(5)"
   ],
   "execution_count": null,
   "outputs": [
    {
     "output_type": "execute_result",
     "data": {
      "text/html": [
       "<div>\n",
       "<style scoped>\n",
       "    .dataframe tbody tr th:only-of-type {\n",
       "        vertical-align: middle;\n",
       "    }\n",
       "\n",
       "    .dataframe tbody tr th {\n",
       "        vertical-align: top;\n",
       "    }\n",
       "\n",
       "    .dataframe thead th {\n",
       "        text-align: right;\n",
       "    }\n",
       "</style>\n",
       "<table border=\"1\" class=\"dataframe\">\n",
       "  <thead>\n",
       "    <tr style=\"text-align: right;\">\n",
       "      <th></th>\n",
       "      <th>id</th>\n",
       "      <th>title</th>\n",
       "      <th>address</th>\n",
       "      <th>price</th>\n",
       "      <th>Fellesgjeld</th>\n",
       "      <th>Omkostninger</th>\n",
       "      <th>Totalpris</th>\n",
       "      <th>Felleskost/mnd.</th>\n",
       "      <th>Boligtype</th>\n",
       "      <th>Eieform bolig</th>\n",
       "      <th>Soverom</th>\n",
       "      <th>Primærrom</th>\n",
       "      <th>Bruksareal</th>\n",
       "      <th>Etasje</th>\n",
       "      <th>Byggeår</th>\n",
       "      <th>Energimerking</th>\n",
       "      <th>Rom</th>\n",
       "      <th>Tomteareal</th>\n",
       "      <th>Bruttoareal</th>\n",
       "      <th>Fellesformue</th>\n",
       "      <th>Formuesverdi</th>\n",
       "      <th>facilities</th>\n",
       "      <th>description</th>\n",
       "      <th>lat</th>\n",
       "      <th>lon</th>\n",
       "      <th>Kommunale avg.</th>\n",
       "      <th>Boligselgerforsikring</th>\n",
       "      <th>Verditakst</th>\n",
       "      <th>Lånetakst</th>\n",
       "      <th>Tomt</th>\n",
       "      <th>Festeavgift</th>\n",
       "      <th>Pris med fellesgjeld</th>\n",
       "      <th>Renovert år</th>\n",
       "      <th>Låneverdi</th>\n",
       "      <th>Grunnflate</th>\n",
       "      <th>Felleskost/mnd. etter avdragsfri periode</th>\n",
       "      <th>Sikringsordning</th>\n",
       "      <th>Festeår</th>\n",
       "      <th>Utleiedel</th>\n",
       "    </tr>\n",
       "  </thead>\n",
       "  <tbody>\n",
       "    <tr>\n",
       "      <th>1478</th>\n",
       "      <td>200408117</td>\n",
       "      <td>Sofienberg  2-roms oppussingsobjekt med et bra...</td>\n",
       "      <td>Trondheimsveien 95, 0565 Oslo</td>\n",
       "      <td>3300000</td>\n",
       "      <td>93 000 kr</td>\n",
       "      <td>15 385 kr</td>\n",
       "      <td>3 408 385 kr</td>\n",
       "      <td>3 866 kr</td>\n",
       "      <td>Leilighet</td>\n",
       "      <td>Andel</td>\n",
       "      <td>1</td>\n",
       "      <td>50 m²</td>\n",
       "      <td>53 m²</td>\n",
       "      <td>3</td>\n",
       "      <td>1941</td>\n",
       "      <td>F - rød</td>\n",
       "      <td>2</td>\n",
       "      <td>9283 m² (eiet)</td>\n",
       "      <td>58 m²</td>\n",
       "      <td>NaN</td>\n",
       "      <td>959 906 kr</td>\n",
       "      <td>[Kabel-TV, vektertjeneste, Vaktmester-, Felles...</td>\n",
       "      <td>entrè,kjøkken,stue,badogsoverom.jFelleskostnad...</td>\n",
       "      <td>59.924236</td>\n",
       "      <td>10.774315</td>\n",
       "      <td>NaN</td>\n",
       "      <td>Ja</td>\n",
       "      <td>NaN</td>\n",
       "      <td>NaN</td>\n",
       "      <td>NaN</td>\n",
       "      <td>NaN</td>\n",
       "      <td>NaN</td>\n",
       "      <td>NaN</td>\n",
       "      <td>NaN</td>\n",
       "      <td>NaN</td>\n",
       "      <td>NaN</td>\n",
       "      <td>NaN</td>\n",
       "      <td>NaN</td>\n",
       "      <td>NaN</td>\n",
       "    </tr>\n",
       "    <tr>\n",
       "      <th>1681</th>\n",
       "      <td>200327120</td>\n",
       "      <td>Delikat og innbydende 2,5 roms med stor sydves...</td>\n",
       "      <td>Tokerudberget 10, 0986 Oslo</td>\n",
       "      <td>2990000</td>\n",
       "      <td>158 000 kr</td>\n",
       "      <td>80 072 kr</td>\n",
       "      <td>3 228 072 kr</td>\n",
       "      <td>3 790 kr</td>\n",
       "      <td>Leilighet</td>\n",
       "      <td>Eier (Selveier)</td>\n",
       "      <td>1</td>\n",
       "      <td>79 m²</td>\n",
       "      <td>81 m²</td>\n",
       "      <td>2</td>\n",
       "      <td>1972</td>\n",
       "      <td>E - rød</td>\n",
       "      <td>2</td>\n",
       "      <td>28203 m²</td>\n",
       "      <td>90 m²</td>\n",
       "      <td>27 690 kr</td>\n",
       "      <td>814 248 kr</td>\n",
       "      <td>[Ingen gjenboere, Kabel-TV, Offentlig vann, Ro...</td>\n",
       "      <td>Varmtvann,kabel-tv/internett(grunnpakke),vaktm...</td>\n",
       "      <td>59.9649</td>\n",
       "      <td>10.9262</td>\n",
       "      <td>NaN</td>\n",
       "      <td>NaN</td>\n",
       "      <td>NaN</td>\n",
       "      <td>NaN</td>\n",
       "      <td>NaN</td>\n",
       "      <td>NaN</td>\n",
       "      <td>NaN</td>\n",
       "      <td>NaN</td>\n",
       "      <td>NaN</td>\n",
       "      <td>NaN</td>\n",
       "      <td>NaN</td>\n",
       "      <td>NaN</td>\n",
       "      <td>NaN</td>\n",
       "      <td>NaN</td>\n",
       "    </tr>\n",
       "    <tr>\n",
       "      <th>1071</th>\n",
       "      <td>199849055</td>\n",
       "      <td>Lekker og praktisk toppleilighet med solrik ba...</td>\n",
       "      <td>Leif Aunes vei 5 D, 8012 Bodø</td>\n",
       "      <td>1920000</td>\n",
       "      <td>169 976 kr</td>\n",
       "      <td>960 kr</td>\n",
       "      <td>2 090 936 kr</td>\n",
       "      <td>2 627 kr</td>\n",
       "      <td>Leilighet</td>\n",
       "      <td>Andel</td>\n",
       "      <td>NaN</td>\n",
       "      <td>32 m²</td>\n",
       "      <td>39 m²</td>\n",
       "      <td>3</td>\n",
       "      <td>1968</td>\n",
       "      <td>G - rød</td>\n",
       "      <td>1</td>\n",
       "      <td>12241 m² (eiet)</td>\n",
       "      <td>NaN</td>\n",
       "      <td>17 056 kr</td>\n",
       "      <td>386 420 kr</td>\n",
       "      <td>[Offentlig vann, Kabel-TV, Rolig, Balkong, Par...</td>\n",
       "      <td>Felleskostnaderinkludererbetjeningavandelfelle...</td>\n",
       "      <td>67.2993</td>\n",
       "      <td>14.412008</td>\n",
       "      <td>NaN</td>\n",
       "      <td>NaN</td>\n",
       "      <td>1 920 000 kr</td>\n",
       "      <td>NaN</td>\n",
       "      <td>NaN</td>\n",
       "      <td>NaN</td>\n",
       "      <td>NaN</td>\n",
       "      <td>NaN</td>\n",
       "      <td>NaN</td>\n",
       "      <td>NaN</td>\n",
       "      <td>NaN</td>\n",
       "      <td>NaN</td>\n",
       "      <td>NaN</td>\n",
       "      <td>NaN</td>\n",
       "    </tr>\n",
       "    <tr>\n",
       "      <th>304</th>\n",
       "      <td>196601244</td>\n",
       "      <td>Fyllingsdalen - Fantastisk 3-roms leilighet m/...</td>\n",
       "      <td>Løvåsbakken 33, 5145 Fyllingsdalen</td>\n",
       "      <td>890000</td>\n",
       "      <td>2 598 933 kr</td>\n",
       "      <td>5 660 kr</td>\n",
       "      <td>3 494 593 kr</td>\n",
       "      <td>13 501 kr</td>\n",
       "      <td>Leilighet</td>\n",
       "      <td>Andel</td>\n",
       "      <td>2</td>\n",
       "      <td>77 m²</td>\n",
       "      <td>80 m²</td>\n",
       "      <td>2</td>\n",
       "      <td>2008</td>\n",
       "      <td>C - rød</td>\n",
       "      <td>NaN</td>\n",
       "      <td>16122 m² (eiet)</td>\n",
       "      <td>80 m²</td>\n",
       "      <td>11 774 kr</td>\n",
       "      <td>781 933 kr</td>\n",
       "      <td>[]</td>\n",
       "      <td>Vedtekbestemtforkjøpsrettsomvilbliavklartiette...</td>\n",
       "      <td>60.355522</td>\n",
       "      <td>5.2844105</td>\n",
       "      <td>NaN</td>\n",
       "      <td>Ja</td>\n",
       "      <td>NaN</td>\n",
       "      <td>NaN</td>\n",
       "      <td>NaN</td>\n",
       "      <td>NaN</td>\n",
       "      <td>NaN</td>\n",
       "      <td>NaN</td>\n",
       "      <td>NaN</td>\n",
       "      <td>NaN</td>\n",
       "      <td>NaN</td>\n",
       "      <td>NaN</td>\n",
       "      <td>NaN</td>\n",
       "      <td>NaN</td>\n",
       "    </tr>\n",
       "    <tr>\n",
       "      <th>824</th>\n",
       "      <td>199856052</td>\n",
       "      <td>Pen, attraktiv og innbydende endeleilighet med...</td>\n",
       "      <td>Plogveien 15, 0679 Oslo</td>\n",
       "      <td>3400000</td>\n",
       "      <td>92 000 kr</td>\n",
       "      <td>15 385 kr</td>\n",
       "      <td>3 507 385 kr</td>\n",
       "      <td>3 190 kr</td>\n",
       "      <td>Leilighet</td>\n",
       "      <td>Andel</td>\n",
       "      <td>1</td>\n",
       "      <td>53 m²</td>\n",
       "      <td>53 m²</td>\n",
       "      <td>2</td>\n",
       "      <td>1958</td>\n",
       "      <td>F - rød</td>\n",
       "      <td>2</td>\n",
       "      <td>28865 m² (eiet)</td>\n",
       "      <td>59 m²</td>\n",
       "      <td>9 477 kr</td>\n",
       "      <td>774 555 kr</td>\n",
       "      <td>[Kabel-TV, Ingen gjenboere, Rolig, vektertjene...</td>\n",
       "      <td>entre,stue,kjøkken,bad/wc,1soveromjaVarmtvann,...</td>\n",
       "      <td>59.898865</td>\n",
       "      <td>10.808667</td>\n",
       "      <td>NaN</td>\n",
       "      <td>Ja</td>\n",
       "      <td>NaN</td>\n",
       "      <td>NaN</td>\n",
       "      <td>NaN</td>\n",
       "      <td>NaN</td>\n",
       "      <td>NaN</td>\n",
       "      <td>NaN</td>\n",
       "      <td>NaN</td>\n",
       "      <td>NaN</td>\n",
       "      <td>NaN</td>\n",
       "      <td>NaN</td>\n",
       "      <td>NaN</td>\n",
       "      <td>NaN</td>\n",
       "    </tr>\n",
       "  </tbody>\n",
       "</table>\n",
       "</div>"
      ],
      "text/plain": [
       "             id  ... Utleiedel\n",
       "1478  200408117  ...       NaN\n",
       "1681  200327120  ...       NaN\n",
       "1071  199849055  ...       NaN\n",
       "304   196601244  ...       NaN\n",
       "824   199856052  ...       NaN\n",
       "\n",
       "[5 rows x 39 columns]"
      ]
     },
     "metadata": {
      "tags": []
     },
     "execution_count": 282
    }
   ]
  },
  {
   "cell_type": "code",
   "metadata": {
    "colab": {
     "base_uri": "https://localhost:8080/"
    },
    "id": "3CiBb6RK_uA-",
    "outputId": "ac6cac46-a24d-4e25-f674-4a41b396860a"
   },
   "source": [
    "df.shape"
   ],
   "execution_count": null,
   "outputs": [
    {
     "output_type": "execute_result",
     "data": {
      "text/plain": [
       "(1694, 39)"
      ]
     },
     "metadata": {
      "tags": []
     },
     "execution_count": 283
    }
   ]
  },
  {
   "cell_type": "markdown",
   "metadata": {
    "id": "yP7lgPXsjoGg"
   },
   "source": [
    "Saving the raw dataset, as backup."
   ]
  },
  {
   "cell_type": "code",
   "metadata": {
    "id": "yn_308EkOnV2"
   },
   "source": [
    "df.to_csv('Norway_houses.csv')"
   ],
   "execution_count": null,
   "outputs": []
  },
  {
   "cell_type": "markdown",
   "metadata": {
    "id": "UUMddHkceDvA"
   },
   "source": [
    "Lets checkout the amount of missing values the dataset has"
   ]
  },
  {
   "cell_type": "code",
   "metadata": {
    "colab": {
     "base_uri": "https://localhost:8080/"
    },
    "id": "1BSpcWl2P7V8",
    "outputId": "25f3a50f-7dda-498d-a344-aa898a8a6ac1"
   },
   "source": [
    "df.isnull().sum().sort_values(ascending = False)"
   ],
   "execution_count": null,
   "outputs": [
    {
     "output_type": "execute_result",
     "data": {
      "text/plain": [
       "Utleiedel                                   1693\n",
       "Festeår                                     1692\n",
       "Sikringsordning                             1690\n",
       "Grunnflate                                  1682\n",
       "Felleskost/mnd. etter avdragsfri periode    1680\n",
       "Låneverdi                                   1677\n",
       "Pris med fellesgjeld                        1669\n",
       "Lånetakst                                   1664\n",
       "Renovert år                                 1662\n",
       "Festeavgift                                 1649\n",
       "Tomt                                        1614\n",
       "Verditakst                                  1415\n",
       "Boligselgerforsikring                       1303\n",
       "Fellesformue                                1051\n",
       "Fellesgjeld                                  992\n",
       "Kommunale avg.                               962\n",
       "Rom                                          636\n",
       "Felleskost/mnd.                              571\n",
       "Etasje                                       528\n",
       "Bruttoareal                                  374\n",
       "Energimerking                                371\n",
       "Formuesverdi                                 330\n",
       "Tomteareal                                   101\n",
       "Omkostninger                                  77\n",
       "Totalpris                                     76\n",
       "Soverom                                       55\n",
       "Byggeår                                       28\n",
       "Primærrom                                     17\n",
       "Bruksareal                                    11\n",
       "address                                        0\n",
       "price                                          0\n",
       "title                                          0\n",
       "lon                                            0\n",
       "Boligtype                                      0\n",
       "Eieform bolig                                  0\n",
       "lat                                            0\n",
       "facilities                                     0\n",
       "description                                    0\n",
       "id                                             0\n",
       "dtype: int64"
      ]
     },
     "metadata": {
      "tags": []
     },
     "execution_count": 285
    }
   ]
  },
  {
   "cell_type": "markdown",
   "metadata": {
    "id": "wwLnMqWNf1Zv"
   },
   "source": [
    "Lets translate the columns to english."
   ]
  },
  {
   "cell_type": "code",
   "metadata": {
    "id": "H0_3NA4wRHNl"
   },
   "source": [
    "def n2e(norsk_text):\n",
    "  return GoogleTranslator(source='no', target='en').translate(norsk_text)\n",
    "\n",
    "df.columns = list(map(n2e, df.columns))"
   ],
   "execution_count": null,
   "outputs": []
  },
  {
   "cell_type": "code",
   "metadata": {
    "colab": {
     "base_uri": "https://localhost:8080/"
    },
    "id": "7vV54j21gbwg",
    "outputId": "3477caee-f28f-4754-93cd-0f9ac165a72d"
   },
   "source": [
    "missing_vals = df.isnull().sum().sort_values(ascending = False)\n",
    "missing_vals[missing_vals>0]"
   ],
   "execution_count": null,
   "outputs": [
    {
     "output_type": "execute_result",
     "data": {
      "text/plain": [
       "Rental part                                        1693\n",
       "Party year                                         1692\n",
       "Security scheme                                    1690\n",
       "Base surface                                       1682\n",
       "Felleskost / mnd. after installment-free period    1680\n",
       "Loan value                                         1677\n",
       "Price with joint debt                              1669\n",
       "Loan rate                                          1664\n",
       "Renovated year                                     1662\n",
       "Fixing fee                                         1649\n",
       "Empty                                              1614\n",
       "Valuation                                          1415\n",
       "Home seller insurance                              1303\n",
       "Common property                                    1051\n",
       "Joint debt                                          992\n",
       "Municipal avg.                                      962\n",
       "Room                                                636\n",
       "Felleskost / mnd.                                   571\n",
       "Story                                               528\n",
       "Gross area                                          374\n",
       "Energy labeling                                     371\n",
       "Property value                                      330\n",
       "Land area                                           101\n",
       "Costs                                                77\n",
       "Total price                                          76\n",
       "Bedroom                                              55\n",
       "Year of construction                                 28\n",
       "Primary room                                         17\n",
       "Usable area                                          11\n",
       "dtype: int64"
      ]
     },
     "metadata": {
      "tags": []
     },
     "execution_count": 287
    }
   ]
  },
  {
   "cell_type": "markdown",
   "metadata": {
    "id": "OWK3ZzMzhAbP"
   },
   "source": [
    "There are some column with a lot of missing values, In close inspection lot of these columns are not that important either. I will be removing the columns with more than 50% missing values."
   ]
  },
  {
   "cell_type": "code",
   "metadata": {
    "colab": {
     "base_uri": "https://localhost:8080/",
     "height": 551
    },
    "id": "-cAIrqO7gmDI",
    "outputId": "5d48dd05-b8ab-445b-f17a-6ec3b0b4e827"
   },
   "source": [
    "cutoff_pct = 50\n",
    "cols_to_remove = missing_vals[missing_vals > df.shape[0] * cutoff_pct / 100].keys()\n",
    "df = df.drop(columns=list(cols_to_remove))\n",
    "df.sample(5)"
   ],
   "execution_count": null,
   "outputs": [
    {
     "output_type": "execute_result",
     "data": {
      "text/html": [
       "<div>\n",
       "<style scoped>\n",
       "    .dataframe tbody tr th:only-of-type {\n",
       "        vertical-align: middle;\n",
       "    }\n",
       "\n",
       "    .dataframe tbody tr th {\n",
       "        vertical-align: top;\n",
       "    }\n",
       "\n",
       "    .dataframe thead th {\n",
       "        text-align: right;\n",
       "    }\n",
       "</style>\n",
       "<table border=\"1\" class=\"dataframe\">\n",
       "  <thead>\n",
       "    <tr style=\"text-align: right;\">\n",
       "      <th></th>\n",
       "      <th>id</th>\n",
       "      <th>title</th>\n",
       "      <th>address</th>\n",
       "      <th>price</th>\n",
       "      <th>Costs</th>\n",
       "      <th>Total price</th>\n",
       "      <th>Felleskost / mnd.</th>\n",
       "      <th>Housing type</th>\n",
       "      <th>Own form of housing</th>\n",
       "      <th>Bedroom</th>\n",
       "      <th>Primary room</th>\n",
       "      <th>Usable area</th>\n",
       "      <th>Story</th>\n",
       "      <th>Year of construction</th>\n",
       "      <th>Energy labeling</th>\n",
       "      <th>Room</th>\n",
       "      <th>Land area</th>\n",
       "      <th>Gross area</th>\n",
       "      <th>Property value</th>\n",
       "      <th>facilities</th>\n",
       "      <th>description</th>\n",
       "      <th>lazy</th>\n",
       "      <th>lon</th>\n",
       "    </tr>\n",
       "  </thead>\n",
       "  <tbody>\n",
       "    <tr>\n",
       "      <th>1107</th>\n",
       "      <td>200537320</td>\n",
       "      <td>Sjelden 3-roms toppleilighet med nydelig utsik...</td>\n",
       "      <td>Heggdalsringen 65, 7049 Trondheim</td>\n",
       "      <td>5295000</td>\n",
       "      <td>140 440 kr</td>\n",
       "      <td>5 435 440 kr</td>\n",
       "      <td>2 189 kr</td>\n",
       "      <td>Leilighet</td>\n",
       "      <td>Eier (Selveier)</td>\n",
       "      <td>2</td>\n",
       "      <td>69 m²</td>\n",
       "      <td>73 m²</td>\n",
       "      <td>5</td>\n",
       "      <td>2019</td>\n",
       "      <td>C - mørkegrønn</td>\n",
       "      <td>NaN</td>\n",
       "      <td>15357 m² (eiet)</td>\n",
       "      <td>NaN</td>\n",
       "      <td>NaN</td>\n",
       "      <td>[]</td>\n",
       "      <td>Felleskostnadenstipulertdekkerdriftavsameiet,f...</td>\n",
       "      <td>63.40735</td>\n",
       "      <td>10.449953</td>\n",
       "    </tr>\n",
       "    <tr>\n",
       "      <th>1555</th>\n",
       "      <td>200646058</td>\n",
       "      <td>Meget pen og tiltalende halvpart av tomannsbol...</td>\n",
       "      <td>Narntegata 27, 1636 Gamle Fredrikstad</td>\n",
       "      <td>3500000</td>\n",
       "      <td>103 170 kr</td>\n",
       "      <td>3 603 170 kr</td>\n",
       "      <td>NaN</td>\n",
       "      <td>Tomannsbolig</td>\n",
       "      <td>Eier (Selveier)</td>\n",
       "      <td>3</td>\n",
       "      <td>87 m²</td>\n",
       "      <td>87 m²</td>\n",
       "      <td>NaN</td>\n",
       "      <td>1917</td>\n",
       "      <td>NaN</td>\n",
       "      <td>NaN</td>\n",
       "      <td>577 m² (eiet)</td>\n",
       "      <td>NaN</td>\n",
       "      <td>614 394 kr</td>\n",
       "      <td>[P-plass, Turterreng, Kabel-TV, Offentlig vann...</td>\n",
       "      <td>2.etg:Bad,vaskerom,gang,kjøkken,stue,soverom1....</td>\n",
       "      <td>59.217472</td>\n",
       "      <td>10.971416</td>\n",
       "    </tr>\n",
       "    <tr>\n",
       "      <th>1140</th>\n",
       "      <td>199964033</td>\n",
       "      <td>Fin enebolig i rolige og barnevennlige omgivel...</td>\n",
       "      <td>Råbygdveien 71, 7105 Stadsbygd</td>\n",
       "      <td>1590000</td>\n",
       "      <td>40 920 kr</td>\n",
       "      <td>1 630 920 kr</td>\n",
       "      <td>NaN</td>\n",
       "      <td>Enebolig</td>\n",
       "      <td>Eier (Selveier)</td>\n",
       "      <td>4</td>\n",
       "      <td>128 m²</td>\n",
       "      <td>177 m²</td>\n",
       "      <td>NaN</td>\n",
       "      <td>1964</td>\n",
       "      <td>G - oransje</td>\n",
       "      <td>5</td>\n",
       "      <td>1188 m² (eiet)</td>\n",
       "      <td>192 m²</td>\n",
       "      <td>364 638 kr</td>\n",
       "      <td>[Barnevennlig, Rolig, Ildsted, Peis]</td>\n",
       "      <td>kr1590000,-(Prisantydning)Omkostninger:kr585,-...</td>\n",
       "      <td>63.521866</td>\n",
       "      <td>10.00205</td>\n",
       "    </tr>\n",
       "    <tr>\n",
       "      <th>1401</th>\n",
       "      <td>184408739</td>\n",
       "      <td>Innholdsrik familiebolig med stor tomt, 2-3 ga...</td>\n",
       "      <td>Ekeliveien 13, 3961 Stathelle</td>\n",
       "      <td>3390000</td>\n",
       "      <td>98 770 kr</td>\n",
       "      <td>3 488 770 kr</td>\n",
       "      <td>NaN</td>\n",
       "      <td>Enebolig</td>\n",
       "      <td>Eier (Selveier)</td>\n",
       "      <td>4</td>\n",
       "      <td>134 m²</td>\n",
       "      <td>186 m²</td>\n",
       "      <td>NaN</td>\n",
       "      <td>1967</td>\n",
       "      <td>G - rød</td>\n",
       "      <td>NaN</td>\n",
       "      <td>924 m² (eiet)</td>\n",
       "      <td>201 m²</td>\n",
       "      <td>691 375 kr</td>\n",
       "      <td>[P-plass, Fiskemulighet, Turterreng, Kabel-TV,...</td>\n",
       "      <td>3390000,-(Prisantydning)Omkostninger84750,-(Do...</td>\n",
       "      <td>59.035664</td>\n",
       "      <td>9.711189</td>\n",
       "    </tr>\n",
       "    <tr>\n",
       "      <th>516</th>\n",
       "      <td>200616425</td>\n",
       "      <td>RØYKEN - GLEINÅSEN - Nytt og flott rekkehus me...</td>\n",
       "      <td>Brudeberget 19, 3440 Røyken</td>\n",
       "      <td>1700000</td>\n",
       "      <td>5 232 kr</td>\n",
       "      <td>4 988 232 kr</td>\n",
       "      <td>7 522 kr</td>\n",
       "      <td>Rekkehus</td>\n",
       "      <td>Andel</td>\n",
       "      <td>3</td>\n",
       "      <td>118 m²</td>\n",
       "      <td>124 m²</td>\n",
       "      <td>NaN</td>\n",
       "      <td>2019</td>\n",
       "      <td>B - oransje</td>\n",
       "      <td>NaN</td>\n",
       "      <td>NaN</td>\n",
       "      <td>142 m²</td>\n",
       "      <td>NaN</td>\n",
       "      <td>[]</td>\n",
       "      <td>20dagersomdekkerbla:renovasjon,TV/bredbånd,byg...</td>\n",
       "      <td>59.74256</td>\n",
       "      <td>10.417895</td>\n",
       "    </tr>\n",
       "  </tbody>\n",
       "</table>\n",
       "</div>"
      ],
      "text/plain": [
       "             id  ...        lon\n",
       "1107  200537320  ...  10.449953\n",
       "1555  200646058  ...  10.971416\n",
       "1140  199964033  ...   10.00205\n",
       "1401  184408739  ...   9.711189\n",
       "516   200616425  ...  10.417895\n",
       "\n",
       "[5 rows x 23 columns]"
      ]
     },
     "metadata": {
      "tags": []
     },
     "execution_count": 288
    }
   ]
  },
  {
   "cell_type": "code",
   "metadata": {
    "colab": {
     "base_uri": "https://localhost:8080/"
    },
    "id": "RlwSxaP-hxZZ",
    "outputId": "aedc93de-762e-4e3a-a924-15e5ff615b56"
   },
   "source": [
    "missing_vals = df.isnull().sum().sort_values(ascending = False)\n",
    "missing_vals[missing_vals>0]"
   ],
   "execution_count": null,
   "outputs": [
    {
     "output_type": "execute_result",
     "data": {
      "text/plain": [
       "Room                    636\n",
       "Felleskost / mnd.       571\n",
       "Story                   528\n",
       "Gross area              374\n",
       "Energy labeling         371\n",
       "Property value          330\n",
       "Land area               101\n",
       "Costs                    77\n",
       "Total price              76\n",
       "Bedroom                  55\n",
       "Year of construction     28\n",
       "Primary room             17\n",
       "Usable area              11\n",
       "dtype: int64"
      ]
     },
     "metadata": {
      "tags": []
     },
     "execution_count": 289
    }
   ]
  },
  {
   "cell_type": "markdown",
   "metadata": {
    "id": "zGvfQuj7kDMb"
   },
   "source": [
    "Now lets checkout some of the columns and what values they contain."
   ]
  },
  {
   "cell_type": "code",
   "metadata": {
    "colab": {
     "base_uri": "https://localhost:8080/"
    },
    "id": "WFit4G4NiwkV",
    "outputId": "6fb2d4f1-1115-422a-f6c0-776745f15f68"
   },
   "source": [
    "df['Own form of housing'].value_counts()"
   ],
   "execution_count": null,
   "outputs": [
    {
     "output_type": "execute_result",
     "data": {
      "text/plain": [
       "Eier (Selveier)    1115\n",
       "Andel               540\n",
       "Aksje                38\n",
       "Obligasjon            1\n",
       "Name: Own form of housing, dtype: int64"
      ]
     },
     "metadata": {
      "tags": []
     },
     "execution_count": 290
    }
   ]
  },
  {
   "cell_type": "markdown",
   "metadata": {
    "id": "sAmzt_JMlqvk"
   },
   "source": [
    "I see this column represent who owned the house. I will rename the column and values."
   ]
  },
  {
   "cell_type": "code",
   "metadata": {
    "colab": {
     "base_uri": "https://localhost:8080/"
    },
    "id": "s1Q7NnGQl_N0",
    "outputId": "f5880474-bb41-44fc-8404-47df3ae07d78"
   },
   "source": [
    "df.rename(columns={'Own form of housing':'owner'}, inplace=True)\n",
    "df.replace({'owner':{'Eier (Selveier)':'private','Andel':'share','Aksje':'auction','Obligasjon':'bond'}}, inplace=True)\n",
    "df['owner'].value_counts()"
   ],
   "execution_count": null,
   "outputs": [
    {
     "output_type": "execute_result",
     "data": {
      "text/plain": [
       "private    1115\n",
       "share       540\n",
       "auction      38\n",
       "bond          1\n",
       "Name: owner, dtype: int64"
      ]
     },
     "metadata": {
      "tags": []
     },
     "execution_count": 291
    }
   ]
  },
  {
   "cell_type": "markdown",
   "metadata": {
    "id": "ihHBMMjYn-S_"
   },
   "source": [
    "I see there is a lot of missing values in the 'Story' column. Lets see the type of house they are."
   ]
  },
  {
   "cell_type": "code",
   "metadata": {
    "colab": {
     "base_uri": "https://localhost:8080/"
    },
    "id": "MlbR6seqnIxo",
    "outputId": "a41b6f26-3a72-430b-cba9-20f41357fcf9"
   },
   "source": [
    "df[df['Story'].isna()]['Housing type'].value_counts()"
   ],
   "execution_count": null,
   "outputs": [
    {
     "output_type": "execute_result",
     "data": {
      "text/plain": [
       "Enebolig               290\n",
       "Rekkehus                79\n",
       "Leilighet               75\n",
       "Tomannsbolig            65\n",
       "Gårdsbruk/Småbruk        8\n",
       "Andre                    5\n",
       "Tomter                   3\n",
       "Annet fritid             2\n",
       "Produksjon/Industri      1\n",
       "Name: Housing type, dtype: int64"
      ]
     },
     "metadata": {
      "tags": []
     },
     "execution_count": 292
    }
   ]
  },
  {
   "cell_type": "markdown",
   "metadata": {
    "id": "-JtxKSbvo0_1"
   },
   "source": [
    "They are mostly Detached, Semi Detached, farm houses. although there are some apartments as well But my guess is they are on the ground floor thats why they probably did not think its important to mention the number of stories. We can consider these properties as ground floors."
   ]
  },
  {
   "cell_type": "code",
   "metadata": {
    "colab": {
     "base_uri": "https://localhost:8080/"
    },
    "id": "_ifgLow2odPA",
    "outputId": "04ac87c9-f7f2-44db-f0c8-9a0c6475c437"
   },
   "source": [
    "df['Story'].fillna(1, inplace = True)\n",
    "missing_vals = df.isnull().sum().sort_values(ascending = False)\n",
    "missing_vals[missing_vals>0]"
   ],
   "execution_count": null,
   "outputs": [
    {
     "output_type": "execute_result",
     "data": {
      "text/plain": [
       "Room                    636\n",
       "Felleskost / mnd.       571\n",
       "Gross area              374\n",
       "Energy labeling         371\n",
       "Property value          330\n",
       "Land area               101\n",
       "Costs                    77\n",
       "Total price              76\n",
       "Bedroom                  55\n",
       "Year of construction     28\n",
       "Primary room             17\n",
       "Usable area              11\n",
       "dtype: int64"
      ]
     },
     "metadata": {
      "tags": []
     },
     "execution_count": 293
    }
   ]
  },
  {
   "cell_type": "markdown",
   "metadata": {
    "id": "RmlzRMaBseY0"
   },
   "source": [
    "Lets explore some questions about the houses.\n",
    "\n"
   ]
  },
  {
   "cell_type": "markdown",
   "metadata": {
    "id": "s0LQT5bXto_m"
   },
   "source": [
    "Some columns like gross area is represented in other columns as well but have a lot of missing values. These columns need to be removed for predictions."
   ]
  },
  {
   "cell_type": "code",
   "metadata": {
    "colab": {
     "base_uri": "https://localhost:8080/",
     "height": 501
    },
    "id": "fykwNhx6tocK",
    "outputId": "3ee359fa-2762-46d7-b1a4-d14c0e3ac397"
   },
   "source": [
    "df.drop(columns=['Room', 'Felleskost / mnd.', 'Property value', 'Land area', 'Costs', 'Total price'], inplace=True)\n",
    "df.sample(5)"
   ],
   "execution_count": null,
   "outputs": [
    {
     "output_type": "execute_result",
     "data": {
      "text/html": [
       "<div>\n",
       "<style scoped>\n",
       "    .dataframe tbody tr th:only-of-type {\n",
       "        vertical-align: middle;\n",
       "    }\n",
       "\n",
       "    .dataframe tbody tr th {\n",
       "        vertical-align: top;\n",
       "    }\n",
       "\n",
       "    .dataframe thead th {\n",
       "        text-align: right;\n",
       "    }\n",
       "</style>\n",
       "<table border=\"1\" class=\"dataframe\">\n",
       "  <thead>\n",
       "    <tr style=\"text-align: right;\">\n",
       "      <th></th>\n",
       "      <th>id</th>\n",
       "      <th>title</th>\n",
       "      <th>address</th>\n",
       "      <th>price</th>\n",
       "      <th>Housing type</th>\n",
       "      <th>owner</th>\n",
       "      <th>Bedroom</th>\n",
       "      <th>Primary room</th>\n",
       "      <th>Usable area</th>\n",
       "      <th>Story</th>\n",
       "      <th>Year of construction</th>\n",
       "      <th>Energy labeling</th>\n",
       "      <th>Gross area</th>\n",
       "      <th>facilities</th>\n",
       "      <th>description</th>\n",
       "      <th>lazy</th>\n",
       "      <th>lon</th>\n",
       "    </tr>\n",
       "  </thead>\n",
       "  <tbody>\n",
       "    <tr>\n",
       "      <th>1145</th>\n",
       "      <td>200398217</td>\n",
       "      <td>Super barnevennlig beliggenhet på beste Bønest...</td>\n",
       "      <td>Bønesskogen 389, 5154 Bønes</td>\n",
       "      <td>3550000</td>\n",
       "      <td>Enebolig</td>\n",
       "      <td>share</td>\n",
       "      <td>3</td>\n",
       "      <td>105 m²</td>\n",
       "      <td>114 m²</td>\n",
       "      <td>1</td>\n",
       "      <td>1984</td>\n",
       "      <td>E - oransje</td>\n",
       "      <td>125 m²</td>\n",
       "      <td>[P-plass, Turterreng, Kabel-TV, Barnevennlig, ...</td>\n",
       "      <td>1.etasje:Entré,hall,2soverom,badogtoalettrom.2...</td>\n",
       "      <td>60.334713</td>\n",
       "      <td>5.297718</td>\n",
       "    </tr>\n",
       "    <tr>\n",
       "      <th>218</th>\n",
       "      <td>199967754</td>\n",
       "      <td>Lys og romslig 2-roms topp-/endeleilighet med ...</td>\n",
       "      <td>Refstad allé 14, 0586 Oslo</td>\n",
       "      <td>2780000</td>\n",
       "      <td>Leilighet</td>\n",
       "      <td>share</td>\n",
       "      <td>1</td>\n",
       "      <td>55 m²</td>\n",
       "      <td>55 m²</td>\n",
       "      <td>4</td>\n",
       "      <td>1957</td>\n",
       "      <td>E - lysegrønn</td>\n",
       "      <td>61 m²</td>\n",
       "      <td>[Kabel-TV, Offentlig vann, vektertjeneste, Vak...</td>\n",
       "      <td>Raskavklaringavforkjøpsretten.MeldefristforOBO...</td>\n",
       "      <td>59.94149</td>\n",
       "      <td>10.80319</td>\n",
       "    </tr>\n",
       "    <tr>\n",
       "      <th>1155</th>\n",
       "      <td>199898563</td>\n",
       "      <td>STOR OG TILTALENDE 4-ROMS ENDELEILIGHET I 2. E...</td>\n",
       "      <td>Fjordveien 67A, 1363 Høvik</td>\n",
       "      <td>7100000</td>\n",
       "      <td>Leilighet</td>\n",
       "      <td>private</td>\n",
       "      <td>3</td>\n",
       "      <td>99 m²</td>\n",
       "      <td>99 m²</td>\n",
       "      <td>2</td>\n",
       "      <td>1961</td>\n",
       "      <td>G - oransje</td>\n",
       "      <td>109 m²</td>\n",
       "      <td>[P-plass, Turterreng, Ingen gjenboere, Barneve...</td>\n",
       "      <td>Alleromeritilstandsrapportenmedregnetiprimærea...</td>\n",
       "      <td>59.89179</td>\n",
       "      <td>10.571858</td>\n",
       "    </tr>\n",
       "    <tr>\n",
       "      <th>531</th>\n",
       "      <td>200395336</td>\n",
       "      <td>Enebolig i kjede beliggende på enden - Solvend...</td>\n",
       "      <td>Glassbegerveien 271, 4032 Stavanger</td>\n",
       "      <td>2350000</td>\n",
       "      <td>Enebolig</td>\n",
       "      <td>share</td>\n",
       "      <td>2</td>\n",
       "      <td>87 m²</td>\n",
       "      <td>87 m²</td>\n",
       "      <td>3</td>\n",
       "      <td>2004</td>\n",
       "      <td>D - rød</td>\n",
       "      <td>99 m²</td>\n",
       "      <td>[P-plass, Kabel-TV, Offentlig vann, Rolig, Bal...</td>\n",
       "      <td>1Etasje:Bruksareal:1.etasje:37kvmPrimærrom:1.e...</td>\n",
       "      <td>58.9017</td>\n",
       "      <td>5.7236</td>\n",
       "    </tr>\n",
       "    <tr>\n",
       "      <th>386</th>\n",
       "      <td>199771988</td>\n",
       "      <td>SØRREISA - Koselig leilighet, gode solforhold ...</td>\n",
       "      <td>Borgveien 31, 9310 Sørreisa</td>\n",
       "      <td>1200000</td>\n",
       "      <td>Leilighet</td>\n",
       "      <td>private</td>\n",
       "      <td>1</td>\n",
       "      <td>64 m²</td>\n",
       "      <td>69 m²</td>\n",
       "      <td>1</td>\n",
       "      <td>1995</td>\n",
       "      <td>E - oransje</td>\n",
       "      <td>73 m²</td>\n",
       "      <td>[Peis, Rolig, Utsikt, Ildsted]</td>\n",
       "      <td>Forsikring,brøyting/strøing,samtforefallendeve...</td>\n",
       "      <td>69.1404</td>\n",
       "      <td>18.1206</td>\n",
       "    </tr>\n",
       "  </tbody>\n",
       "</table>\n",
       "</div>"
      ],
      "text/plain": [
       "             id  ...        lon\n",
       "1145  200398217  ...   5.297718\n",
       "218   199967754  ...   10.80319\n",
       "1155  199898563  ...  10.571858\n",
       "531   200395336  ...     5.7236\n",
       "386   199771988  ...    18.1206\n",
       "\n",
       "[5 rows x 17 columns]"
      ]
     },
     "metadata": {
      "tags": []
     },
     "execution_count": 294
    }
   ]
  },
  {
   "cell_type": "markdown",
   "metadata": {
    "id": "xEXiFzXfOBWI"
   },
   "source": [
    "Lets rename some of the columns for ease of use"
   ]
  },
  {
   "cell_type": "code",
   "metadata": {
    "colab": {
     "base_uri": "https://localhost:8080/",
     "height": 551
    },
    "id": "Yo211pwgNxwm",
    "outputId": "42cc6250-0ee2-4207-f7ad-51d382f420eb"
   },
   "source": [
    "df.columns = [''.join(col.lower().split(' ')) for col in list(df.columns)]\n",
    "df.rename(columns={\n",
    "    'housingtype':'type',\n",
    "    'bedroom':'broom',\n",
    "    'primaryroom':'proom',\n",
    "    'yearofconstruction':'year',\n",
    "    'energylabeling':'energy',\n",
    "    'lazy':'lat'\n",
    "    }, inplace=True)\n",
    "\n",
    "df.sample(5)"
   ],
   "execution_count": null,
   "outputs": [
    {
     "output_type": "execute_result",
     "data": {
      "text/html": [
       "<div>\n",
       "<style scoped>\n",
       "    .dataframe tbody tr th:only-of-type {\n",
       "        vertical-align: middle;\n",
       "    }\n",
       "\n",
       "    .dataframe tbody tr th {\n",
       "        vertical-align: top;\n",
       "    }\n",
       "\n",
       "    .dataframe thead th {\n",
       "        text-align: right;\n",
       "    }\n",
       "</style>\n",
       "<table border=\"1\" class=\"dataframe\">\n",
       "  <thead>\n",
       "    <tr style=\"text-align: right;\">\n",
       "      <th></th>\n",
       "      <th>id</th>\n",
       "      <th>title</th>\n",
       "      <th>address</th>\n",
       "      <th>price</th>\n",
       "      <th>type</th>\n",
       "      <th>owner</th>\n",
       "      <th>broom</th>\n",
       "      <th>proom</th>\n",
       "      <th>usablearea</th>\n",
       "      <th>story</th>\n",
       "      <th>year</th>\n",
       "      <th>energy</th>\n",
       "      <th>grossarea</th>\n",
       "      <th>facilities</th>\n",
       "      <th>description</th>\n",
       "      <th>lat</th>\n",
       "      <th>lon</th>\n",
       "    </tr>\n",
       "  </thead>\n",
       "  <tbody>\n",
       "    <tr>\n",
       "      <th>151</th>\n",
       "      <td>200508099</td>\n",
       "      <td>Eksklusiv leilighet med gjennomgående planløsn...</td>\n",
       "      <td>Dyna brygge 3, 0252 Oslo</td>\n",
       "      <td>17000000</td>\n",
       "      <td>Leilighet</td>\n",
       "      <td>private</td>\n",
       "      <td>2</td>\n",
       "      <td>122 m²</td>\n",
       "      <td>122 m²</td>\n",
       "      <td>2</td>\n",
       "      <td>2014</td>\n",
       "      <td>C - mørkegrønn</td>\n",
       "      <td>134 m²</td>\n",
       "      <td>[Vaktmester-, Lademulighet, Utsikt, Ildsted, B...</td>\n",
       "      <td>Entré/gang,2soverom,dusjbad,hovedbad,stue,åpen...</td>\n",
       "      <td>59.907555</td>\n",
       "      <td>10.719667</td>\n",
       "    </tr>\n",
       "    <tr>\n",
       "      <th>1203</th>\n",
       "      <td>198145724</td>\n",
       "      <td>Sjarmerende enebolig med landlig beliggenhet. ...</td>\n",
       "      <td>Håkestadveien 275, 3280 Tjodalyng</td>\n",
       "      <td>3100000</td>\n",
       "      <td>Enebolig</td>\n",
       "      <td>private</td>\n",
       "      <td>2</td>\n",
       "      <td>195 m²</td>\n",
       "      <td>265 m²</td>\n",
       "      <td>2</td>\n",
       "      <td>1967</td>\n",
       "      <td>F - gul</td>\n",
       "      <td>284 m²</td>\n",
       "      <td>[P-plass, Ingen gjenboere, Rolig, Balkong, Hag...</td>\n",
       "      <td>EneboligBruksareal:1.etasje:156kvmEntre,2xgang...</td>\n",
       "      <td>59.0779</td>\n",
       "      <td>10.1137</td>\n",
       "    </tr>\n",
       "    <tr>\n",
       "      <th>1556</th>\n",
       "      <td>199884205</td>\n",
       "      <td>VISN: 07/12 kl.16.30-17.30! (Påmelding) Innhol...</td>\n",
       "      <td>Bassenggata 13, 6516 Kristiansund N</td>\n",
       "      <td>2790000</td>\n",
       "      <td>Enebolig</td>\n",
       "      <td>private</td>\n",
       "      <td>4</td>\n",
       "      <td>185 m²</td>\n",
       "      <td>196 m²</td>\n",
       "      <td>1</td>\n",
       "      <td>1976</td>\n",
       "      <td>E - oransje</td>\n",
       "      <td>222 m²</td>\n",
       "      <td>[P-plass, Offentlig vann, Rolig, Balkong, Hage...</td>\n",
       "      <td>SokkeletasjeBruksareal:Kjeller:92kvmTrappegang...</td>\n",
       "      <td>63.1111</td>\n",
       "      <td>7.7541</td>\n",
       "    </tr>\n",
       "    <tr>\n",
       "      <th>1445</th>\n",
       "      <td>197229472</td>\n",
       "      <td>Enebolig Minkvegen 10</td>\n",
       "      <td>MINKVEGEN 10, 2030 Nannestad</td>\n",
       "      <td>3300000</td>\n",
       "      <td>Enebolig</td>\n",
       "      <td>private</td>\n",
       "      <td>2</td>\n",
       "      <td>153 m²</td>\n",
       "      <td>172 m²</td>\n",
       "      <td>2</td>\n",
       "      <td>1965</td>\n",
       "      <td>G - rød</td>\n",
       "      <td>NaN</td>\n",
       "      <td>[P-plass, Offentlig vann, Balkong, Sentralt, k...</td>\n",
       "      <td>NeiDokumentavgift,tinglysingavskjøte,tinglysin...</td>\n",
       "      <td>60.222977</td>\n",
       "      <td>11.028235</td>\n",
       "    </tr>\n",
       "    <tr>\n",
       "      <th>1131</th>\n",
       "      <td>199890271</td>\n",
       "      <td>Innholdsrik og pen 3-roms leilighet med to alt...</td>\n",
       "      <td>Hjalmar Brantings vei 127, 5143 Fyllingsdalen</td>\n",
       "      <td>2890000</td>\n",
       "      <td>Leilighet</td>\n",
       "      <td>share</td>\n",
       "      <td>2</td>\n",
       "      <td>92 m²</td>\n",
       "      <td>92 m²</td>\n",
       "      <td>2</td>\n",
       "      <td>1973</td>\n",
       "      <td>NaN</td>\n",
       "      <td>101 m²</td>\n",
       "      <td>[Kabel-TV, Offentlig vann, Rolig, Balkong, Par...</td>\n",
       "      <td>Bruksareal:2.etasje:92kvmGang,stue/kjøkken,bad...</td>\n",
       "      <td>60.3468</td>\n",
       "      <td>5.2915</td>\n",
       "    </tr>\n",
       "  </tbody>\n",
       "</table>\n",
       "</div>"
      ],
      "text/plain": [
       "             id  ...        lon\n",
       "151   200508099  ...  10.719667\n",
       "1203  198145724  ...    10.1137\n",
       "1556  199884205  ...     7.7541\n",
       "1445  197229472  ...  11.028235\n",
       "1131  199890271  ...     5.2915\n",
       "\n",
       "[5 rows x 17 columns]"
      ]
     },
     "metadata": {
      "tags": []
     },
     "execution_count": 295
    }
   ]
  },
  {
   "cell_type": "markdown",
   "metadata": {
    "id": "KOBh5oixUaEY"
   },
   "source": [
    "bed room, primary room, usable area, gross area looks to be correlated. Lets make a smaller dataset without Missing values to see how they correlate."
   ]
  },
  {
   "cell_type": "code",
   "metadata": {
    "colab": {
     "base_uri": "https://localhost:8080/",
     "height": 118
    },
    "id": "XOK6ZlsbZ1d3",
    "outputId": "20fcf074-d535-4281-c394-5a6a10949349"
   },
   "source": [
    "df_areas = df[['broom', 'proom', 'usablearea', 'grossarea']]\n",
    "\n",
    "clean_area = lambda x: float(x.split(' ')[0])\n",
    "\n",
    "df_areas = df_areas[df_areas.isnull().sum(axis=1) == 0]\n",
    "df_areas['proom'] = df_areas['proom'].apply(clean_area)\n",
    "df_areas['broom'] = df_areas['broom'].apply(clean_area)\n",
    "df_areas['usablearea'] = df_areas['usablearea'].apply(clean_area)\n",
    "df_areas['grossarea'] = df_areas['grossarea'].apply(clean_area)\n",
    "\n",
    "df_areas.corr().style.background_gradient(cmap='coolwarm', axis=None)"
   ],
   "execution_count": null,
   "outputs": [
    {
     "output_type": "execute_result",
     "data": {
      "text/html": [
       "<style  type=\"text/css\" >\n",
       "#T_2c619b3a_3697_11eb_b7de_0242ac1c0002row0_col0,#T_2c619b3a_3697_11eb_b7de_0242ac1c0002row1_col1,#T_2c619b3a_3697_11eb_b7de_0242ac1c0002row2_col2,#T_2c619b3a_3697_11eb_b7de_0242ac1c0002row3_col3{\n",
       "            background-color:  #b40426;\n",
       "            color:  #f1f1f1;\n",
       "        }#T_2c619b3a_3697_11eb_b7de_0242ac1c0002row0_col1,#T_2c619b3a_3697_11eb_b7de_0242ac1c0002row1_col0{\n",
       "            background-color:  #6e90f2;\n",
       "            color:  #000000;\n",
       "        }#T_2c619b3a_3697_11eb_b7de_0242ac1c0002row0_col2,#T_2c619b3a_3697_11eb_b7de_0242ac1c0002row0_col3,#T_2c619b3a_3697_11eb_b7de_0242ac1c0002row2_col0,#T_2c619b3a_3697_11eb_b7de_0242ac1c0002row3_col0{\n",
       "            background-color:  #3b4cc0;\n",
       "            color:  #f1f1f1;\n",
       "        }#T_2c619b3a_3697_11eb_b7de_0242ac1c0002row1_col2,#T_2c619b3a_3697_11eb_b7de_0242ac1c0002row2_col1{\n",
       "            background-color:  #f59d7e;\n",
       "            color:  #000000;\n",
       "        }#T_2c619b3a_3697_11eb_b7de_0242ac1c0002row1_col3,#T_2c619b3a_3697_11eb_b7de_0242ac1c0002row3_col1{\n",
       "            background-color:  #f59c7d;\n",
       "            color:  #000000;\n",
       "        }#T_2c619b3a_3697_11eb_b7de_0242ac1c0002row2_col3,#T_2c619b3a_3697_11eb_b7de_0242ac1c0002row3_col2{\n",
       "            background-color:  #ba162b;\n",
       "            color:  #f1f1f1;\n",
       "        }</style><table id=\"T_2c619b3a_3697_11eb_b7de_0242ac1c0002\" ><thead>    <tr>        <th class=\"blank level0\" ></th>        <th class=\"col_heading level0 col0\" >broom</th>        <th class=\"col_heading level0 col1\" >proom</th>        <th class=\"col_heading level0 col2\" >usablearea</th>        <th class=\"col_heading level0 col3\" >grossarea</th>    </tr></thead><tbody>\n",
       "                <tr>\n",
       "                        <th id=\"T_2c619b3a_3697_11eb_b7de_0242ac1c0002level0_row0\" class=\"row_heading level0 row0\" >broom</th>\n",
       "                        <td id=\"T_2c619b3a_3697_11eb_b7de_0242ac1c0002row0_col0\" class=\"data row0 col0\" >1.000000</td>\n",
       "                        <td id=\"T_2c619b3a_3697_11eb_b7de_0242ac1c0002row0_col1\" class=\"data row0 col1\" >0.825387</td>\n",
       "                        <td id=\"T_2c619b3a_3697_11eb_b7de_0242ac1c0002row0_col2\" class=\"data row0 col2\" >0.791842</td>\n",
       "                        <td id=\"T_2c619b3a_3697_11eb_b7de_0242ac1c0002row0_col3\" class=\"data row0 col3\" >0.791427</td>\n",
       "            </tr>\n",
       "            <tr>\n",
       "                        <th id=\"T_2c619b3a_3697_11eb_b7de_0242ac1c0002level0_row1\" class=\"row_heading level0 row1\" >proom</th>\n",
       "                        <td id=\"T_2c619b3a_3697_11eb_b7de_0242ac1c0002row1_col0\" class=\"data row1 col0\" >0.825387</td>\n",
       "                        <td id=\"T_2c619b3a_3697_11eb_b7de_0242ac1c0002row1_col1\" class=\"data row1 col1\" >1.000000</td>\n",
       "                        <td id=\"T_2c619b3a_3697_11eb_b7de_0242ac1c0002row1_col2\" class=\"data row1 col2\" >0.946089</td>\n",
       "                        <td id=\"T_2c619b3a_3697_11eb_b7de_0242ac1c0002row1_col3\" class=\"data row1 col3\" >0.946891</td>\n",
       "            </tr>\n",
       "            <tr>\n",
       "                        <th id=\"T_2c619b3a_3697_11eb_b7de_0242ac1c0002level0_row2\" class=\"row_heading level0 row2\" >usablearea</th>\n",
       "                        <td id=\"T_2c619b3a_3697_11eb_b7de_0242ac1c0002row2_col0\" class=\"data row2 col0\" >0.791842</td>\n",
       "                        <td id=\"T_2c619b3a_3697_11eb_b7de_0242ac1c0002row2_col1\" class=\"data row2 col1\" >0.946089</td>\n",
       "                        <td id=\"T_2c619b3a_3697_11eb_b7de_0242ac1c0002row2_col2\" class=\"data row2 col2\" >1.000000</td>\n",
       "                        <td id=\"T_2c619b3a_3697_11eb_b7de_0242ac1c0002row2_col3\" class=\"data row2 col3\" >0.996301</td>\n",
       "            </tr>\n",
       "            <tr>\n",
       "                        <th id=\"T_2c619b3a_3697_11eb_b7de_0242ac1c0002level0_row3\" class=\"row_heading level0 row3\" >grossarea</th>\n",
       "                        <td id=\"T_2c619b3a_3697_11eb_b7de_0242ac1c0002row3_col0\" class=\"data row3 col0\" >0.791427</td>\n",
       "                        <td id=\"T_2c619b3a_3697_11eb_b7de_0242ac1c0002row3_col1\" class=\"data row3 col1\" >0.946891</td>\n",
       "                        <td id=\"T_2c619b3a_3697_11eb_b7de_0242ac1c0002row3_col2\" class=\"data row3 col2\" >0.996301</td>\n",
       "                        <td id=\"T_2c619b3a_3697_11eb_b7de_0242ac1c0002row3_col3\" class=\"data row3 col3\" >1.000000</td>\n",
       "            </tr>\n",
       "    </tbody></table>"
      ],
      "text/plain": [
       "<pandas.io.formats.style.Styler at 0x7f8864115f60>"
      ]
     },
     "metadata": {
      "tags": []
     },
     "execution_count": 312
    }
   ]
  },
  {
   "cell_type": "markdown",
   "metadata": {
    "id": "J14o7qPdd18T"
   },
   "source": [
    "As we can see usable area is highly correlated with gross area and primary room size. So we can remove those columns as they do not add a lot of information for prediction model."
   ]
  },
  {
   "cell_type": "code",
   "metadata": {
    "colab": {
     "base_uri": "https://localhost:8080/"
    },
    "id": "filsp3DYeVPV",
    "outputId": "d0ca22ce-13d6-46bc-86da-40ad783c2c7f"
   },
   "source": [
    "df.drop(columns=['proom', 'grossarea'], inplace=True)\n",
    "missing_vals = df.isnull().sum().sort_values(ascending = False)\n",
    "missing_vals[missing_vals>0]"
   ],
   "execution_count": null,
   "outputs": [
    {
     "output_type": "execute_result",
     "data": {
      "text/plain": [
       "energy        371\n",
       "broom          55\n",
       "year           28\n",
       "usablearea     11\n",
       "dtype: int64"
      ]
     },
     "metadata": {
      "tags": []
     },
     "execution_count": 313
    }
   ]
  },
  {
   "cell_type": "code",
   "metadata": {
    "colab": {
     "base_uri": "https://localhost:8080/",
     "height": 926
    },
    "id": "vsNZ1RPQRRMA",
    "outputId": "e76554a6-e554-43bc-ff73-e5f57b5b53c7"
   },
   "source": [
    "df = df[df.isnull().sum(axis=1) == 0]"
   ],
   "execution_count": null,
   "outputs": [
    {
     "output_type": "execute_result",
     "data": {
      "text/html": [
       "<div>\n",
       "<style scoped>\n",
       "    .dataframe tbody tr th:only-of-type {\n",
       "        vertical-align: middle;\n",
       "    }\n",
       "\n",
       "    .dataframe tbody tr th {\n",
       "        vertical-align: top;\n",
       "    }\n",
       "\n",
       "    .dataframe thead th {\n",
       "        text-align: right;\n",
       "    }\n",
       "</style>\n",
       "<table border=\"1\" class=\"dataframe\">\n",
       "  <thead>\n",
       "    <tr style=\"text-align: right;\">\n",
       "      <th></th>\n",
       "      <th>id</th>\n",
       "      <th>title</th>\n",
       "      <th>address</th>\n",
       "      <th>price</th>\n",
       "      <th>type</th>\n",
       "      <th>owner</th>\n",
       "      <th>broom</th>\n",
       "      <th>usablearea</th>\n",
       "      <th>story</th>\n",
       "      <th>year</th>\n",
       "      <th>energy</th>\n",
       "      <th>facilities</th>\n",
       "      <th>description</th>\n",
       "      <th>lat</th>\n",
       "      <th>lon</th>\n",
       "    </tr>\n",
       "  </thead>\n",
       "  <tbody>\n",
       "    <tr>\n",
       "      <th>0</th>\n",
       "      <td>200548355</td>\n",
       "      <td>PEN OG INNBYDENDE LEILIGHET I 2. ETASJE PÅ NYB...</td>\n",
       "      <td>Tampereveien 4 B, 7020 Trondheim</td>\n",
       "      <td>1690000</td>\n",
       "      <td>Leilighet</td>\n",
       "      <td>share</td>\n",
       "      <td>0</td>\n",
       "      <td>31 m²</td>\n",
       "      <td>2</td>\n",
       "      <td>1960</td>\n",
       "      <td>E - rød</td>\n",
       "      <td>[P-plass, Turterreng, Kabel-TV, Offentlig vann...</td>\n",
       "      <td>Bruksareal:2.etasje:31kvmGang,bad,stue,kjøkken...</td>\n",
       "      <td>63.4142</td>\n",
       "      <td>10.3496</td>\n",
       "    </tr>\n",
       "    <tr>\n",
       "      <th>3</th>\n",
       "      <td>181444617</td>\n",
       "      <td>Åros, enebolig med solrik og sentral bel. kun ...</td>\n",
       "      <td>Hurumveien 53A, 3474 Åros</td>\n",
       "      <td>4260000</td>\n",
       "      <td>Enebolig</td>\n",
       "      <td>private</td>\n",
       "      <td>3</td>\n",
       "      <td>162 m²</td>\n",
       "      <td>1</td>\n",
       "      <td>1990</td>\n",
       "      <td>D - gul</td>\n",
       "      <td>[P-plass, Fiskemulighet, Turterreng, Offentlig...</td>\n",
       "      <td>U.etg:Vindfang,trapperom,1soverom,kjellerstue,...</td>\n",
       "      <td>59.704712</td>\n",
       "      <td>10.51447</td>\n",
       "    </tr>\n",
       "    <tr>\n",
       "      <th>5</th>\n",
       "      <td>176406543</td>\n",
       "      <td>Flott bolig med alt på ett plan - Gode solforh...</td>\n",
       "      <td>Rygjaveien 29 a, 4020 Stavanger</td>\n",
       "      <td>6850000</td>\n",
       "      <td>Enebolig</td>\n",
       "      <td>private</td>\n",
       "      <td>3</td>\n",
       "      <td>201 m²</td>\n",
       "      <td>1</td>\n",
       "      <td>1968</td>\n",
       "      <td>F - oransje</td>\n",
       "      <td>[P-plass, Offentlig vann, Rolig, Balkong, Park...</td>\n",
       "      <td>Bruksareal:1.etasje:149kvmEntre/hall,WC,mellom...</td>\n",
       "      <td>58.9268</td>\n",
       "      <td>5.7255</td>\n",
       "    </tr>\n",
       "    <tr>\n",
       "      <th>6</th>\n",
       "      <td>200294416</td>\n",
       "      <td>Lekker familiebolig med 3 soverom, 2 bad og 2 ...</td>\n",
       "      <td>Grannesstubben 28, 4044 Hafrsfjord</td>\n",
       "      <td>4990000</td>\n",
       "      <td>Rekkehus</td>\n",
       "      <td>private</td>\n",
       "      <td>3</td>\n",
       "      <td>134 m²</td>\n",
       "      <td>1</td>\n",
       "      <td>2011</td>\n",
       "      <td>B - rød</td>\n",
       "      <td>[P-plass, Turterreng, Offentlig vann, Balkong,...</td>\n",
       "      <td>Bruksareal:1.etasje:66kvm2.etasje:68kvmPrimærr...</td>\n",
       "      <td>58.9308</td>\n",
       "      <td>5.6916</td>\n",
       "    </tr>\n",
       "    <tr>\n",
       "      <th>7</th>\n",
       "      <td>197926933</td>\n",
       "      <td>Tidligere småbruk med idyllisk beliggenhet ved...</td>\n",
       "      <td>Strandvegen 70, 2430 Jordet</td>\n",
       "      <td>1900000</td>\n",
       "      <td>Gårdsbruk/Småbruk</td>\n",
       "      <td>private</td>\n",
       "      <td>4</td>\n",
       "      <td>157 m²</td>\n",
       "      <td>1</td>\n",
       "      <td>1912</td>\n",
       "      <td>G - oransje</td>\n",
       "      <td>[]</td>\n",
       "      <td>Bruksareal:Kjeller:13kvm1.etasje:102kvm2.etasj...</td>\n",
       "      <td>61.4209</td>\n",
       "      <td>12.1463</td>\n",
       "    </tr>\n",
       "    <tr>\n",
       "      <th>...</th>\n",
       "      <td>...</td>\n",
       "      <td>...</td>\n",
       "      <td>...</td>\n",
       "      <td>...</td>\n",
       "      <td>...</td>\n",
       "      <td>...</td>\n",
       "      <td>...</td>\n",
       "      <td>...</td>\n",
       "      <td>...</td>\n",
       "      <td>...</td>\n",
       "      <td>...</td>\n",
       "      <td>...</td>\n",
       "      <td>...</td>\n",
       "      <td>...</td>\n",
       "      <td>...</td>\n",
       "    </tr>\n",
       "    <tr>\n",
       "      <th>1689</th>\n",
       "      <td>200638453</td>\n",
       "      <td>Oppussingsobjekt: Stort selveiende enderekkehu...</td>\n",
       "      <td>Kiplehaugen 43, 5179 Godvik</td>\n",
       "      <td>3590000</td>\n",
       "      <td>Rekkehus</td>\n",
       "      <td>private</td>\n",
       "      <td>2</td>\n",
       "      <td>165 m²</td>\n",
       "      <td>1</td>\n",
       "      <td>1969</td>\n",
       "      <td>F - gul</td>\n",
       "      <td>[]</td>\n",
       "      <td>3590000,-(Prisantydning)Omkostninger2800,-(Bol...</td>\n",
       "      <td>60.37144</td>\n",
       "      <td>5.2012715</td>\n",
       "    </tr>\n",
       "    <tr>\n",
       "      <th>1690</th>\n",
       "      <td>200499190</td>\n",
       "      <td>Lys og hyggelig leilighet over 2 plan med nærh...</td>\n",
       "      <td>Laskenveien 2C, 3214 Sandefjord</td>\n",
       "      <td>2100000</td>\n",
       "      <td>Leilighet</td>\n",
       "      <td>share</td>\n",
       "      <td>2</td>\n",
       "      <td>104 m²</td>\n",
       "      <td>2</td>\n",
       "      <td>1999</td>\n",
       "      <td>D - oransje</td>\n",
       "      <td>[P-plass, Turterreng, Offentlig vann, Rolig, B...</td>\n",
       "      <td>Laskenveien2cBruksareal:2.etasje:40kvmGang/tra...</td>\n",
       "      <td>59.134</td>\n",
       "      <td>10.2047</td>\n",
       "    </tr>\n",
       "    <tr>\n",
       "      <th>1691</th>\n",
       "      <td>200531964</td>\n",
       "      <td>Innholdsrik enebolig fra 2014 med egen inngang...</td>\n",
       "      <td>Solbergliveien 9C, 0682 Oslo</td>\n",
       "      <td>10800000</td>\n",
       "      <td>Enebolig</td>\n",
       "      <td>private</td>\n",
       "      <td>3</td>\n",
       "      <td>164 m²</td>\n",
       "      <td>1</td>\n",
       "      <td>2014</td>\n",
       "      <td>B - rød</td>\n",
       "      <td>[P-plass, Turterreng, Kabel-TV, Offentlig vann...</td>\n",
       "      <td>Kjeller:Bad,vaskerom,gang,kjellerstue.1.etasje...</td>\n",
       "      <td>59.908833</td>\n",
       "      <td>10.837808</td>\n",
       "    </tr>\n",
       "    <tr>\n",
       "      <th>1692</th>\n",
       "      <td>200515582</td>\n",
       "      <td>Steinkjer - Enebolig på Byafossen. Oppusset 1 ...</td>\n",
       "      <td>Klepparvegen 6, 7716 Steinkjer</td>\n",
       "      <td>1490000</td>\n",
       "      <td>Enebolig</td>\n",
       "      <td>private</td>\n",
       "      <td>3</td>\n",
       "      <td>232 m²</td>\n",
       "      <td>1</td>\n",
       "      <td>1973</td>\n",
       "      <td>G - oransje</td>\n",
       "      <td>[]</td>\n",
       "      <td>1490000,-(Prisantydning)Omkostninger172,-(Pant...</td>\n",
       "      <td>64.03574</td>\n",
       "      <td>11.548495</td>\n",
       "    </tr>\n",
       "    <tr>\n",
       "      <th>1693</th>\n",
       "      <td>200204287</td>\n",
       "      <td>Nyere leilighet like ved sjøkanten, med to par...</td>\n",
       "      <td>Sjøgata 21B, 9900 Kirkenes</td>\n",
       "      <td>3200000</td>\n",
       "      <td>Leilighet</td>\n",
       "      <td>private</td>\n",
       "      <td>3</td>\n",
       "      <td>103 m²</td>\n",
       "      <td>1</td>\n",
       "      <td>2010</td>\n",
       "      <td>B - rød</td>\n",
       "      <td>[]</td>\n",
       "      <td>Bygningsforsikring.kr3200000,-(Prisantydning)O...</td>\n",
       "      <td>69.729546</td>\n",
       "      <td>30.051748</td>\n",
       "    </tr>\n",
       "  </tbody>\n",
       "</table>\n",
       "<p>1280 rows × 15 columns</p>\n",
       "</div>"
      ],
      "text/plain": [
       "             id  ...        lon\n",
       "0     200548355  ...    10.3496\n",
       "3     181444617  ...   10.51447\n",
       "5     176406543  ...     5.7255\n",
       "6     200294416  ...     5.6916\n",
       "7     197926933  ...    12.1463\n",
       "...         ...  ...        ...\n",
       "1689  200638453  ...  5.2012715\n",
       "1690  200499190  ...    10.2047\n",
       "1691  200531964  ...  10.837808\n",
       "1692  200515582  ...  11.548495\n",
       "1693  200204287  ...  30.051748\n",
       "\n",
       "[1280 rows x 15 columns]"
      ]
     },
     "metadata": {
      "tags": []
     },
     "execution_count": 314
    }
   ]
  }
 ]
}